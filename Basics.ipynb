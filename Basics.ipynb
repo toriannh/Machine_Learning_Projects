{
 "cells": [
  {
   "cell_type": "markdown",
   "metadata": {
    "collapsed": true
   },
   "source": [
    "# Predicting Car Prices\n",
    "In this project I will predict a car's market price using its attributes. The data set I will be working with contains information on various cars. For each car I have information about the technical aspects of the vehicle such as the motor's displacement, the weight of the car, the miles per gallon, how fast the car accelerates, and more."
   ]
  },
  {
   "cell_type": "markdown",
   "metadata": {},
   "source": [
    "## Introduction to the Data Set"
   ]
  },
  {
   "cell_type": "code",
   "execution_count": 2,
   "metadata": {
    "collapsed": true
   },
   "outputs": [],
   "source": [
    "headers = [\"symboling\", \"normalized_losses\", \"make\", \"fuel_type\",\n",
    "          'aspiration','num_doors','body_style','drive_wheels',\n",
    "          'engine_location','wheel_base','length','width','height',\n",
    "          'curb_weight','engine_type','num_cylinders',\n",
    "          'engine_size','fuel_system','bore','stroke',\n",
    "          'compression_ratio',\n",
    "          'horsepower','peak_rpm','city_mpg','highway_mpg','price']\n"
   ]
  },
  {
   "cell_type": "code",
   "execution_count": 3,
   "metadata": {
    "collapsed": false
   },
   "outputs": [
    {
     "name": "stdout",
     "output_type": "stream",
     "text": [
      "(205, 26)\n"
     ]
    },
    {
     "data": {
      "text/html": [
       "<div>\n",
       "<style scoped>\n",
       "    .dataframe tbody tr th:only-of-type {\n",
       "        vertical-align: middle;\n",
       "    }\n",
       "\n",
       "    .dataframe tbody tr th {\n",
       "        vertical-align: top;\n",
       "    }\n",
       "\n",
       "    .dataframe thead th {\n",
       "        text-align: right;\n",
       "    }\n",
       "</style>\n",
       "<table border=\"1\" class=\"dataframe\">\n",
       "  <thead>\n",
       "    <tr style=\"text-align: right;\">\n",
       "      <th></th>\n",
       "      <th>symboling</th>\n",
       "      <th>normalized_losses</th>\n",
       "      <th>make</th>\n",
       "      <th>fuel_type</th>\n",
       "      <th>aspiration</th>\n",
       "      <th>num_doors</th>\n",
       "      <th>body_style</th>\n",
       "      <th>drive_wheels</th>\n",
       "      <th>engine_location</th>\n",
       "      <th>wheel_base</th>\n",
       "      <th>...</th>\n",
       "      <th>engine_size</th>\n",
       "      <th>fuel_system</th>\n",
       "      <th>bore</th>\n",
       "      <th>stroke</th>\n",
       "      <th>compression_ratio</th>\n",
       "      <th>horsepower</th>\n",
       "      <th>peak_rpm</th>\n",
       "      <th>city_mpg</th>\n",
       "      <th>highway_mpg</th>\n",
       "      <th>price</th>\n",
       "    </tr>\n",
       "  </thead>\n",
       "  <tbody>\n",
       "    <tr>\n",
       "      <th>0</th>\n",
       "      <td>3</td>\n",
       "      <td>?</td>\n",
       "      <td>alfa-romero</td>\n",
       "      <td>gas</td>\n",
       "      <td>std</td>\n",
       "      <td>two</td>\n",
       "      <td>convertible</td>\n",
       "      <td>rwd</td>\n",
       "      <td>front</td>\n",
       "      <td>88.6</td>\n",
       "      <td>...</td>\n",
       "      <td>130</td>\n",
       "      <td>mpfi</td>\n",
       "      <td>3.47</td>\n",
       "      <td>2.68</td>\n",
       "      <td>9.0</td>\n",
       "      <td>111</td>\n",
       "      <td>5000</td>\n",
       "      <td>21</td>\n",
       "      <td>27</td>\n",
       "      <td>13495</td>\n",
       "    </tr>\n",
       "    <tr>\n",
       "      <th>1</th>\n",
       "      <td>3</td>\n",
       "      <td>?</td>\n",
       "      <td>alfa-romero</td>\n",
       "      <td>gas</td>\n",
       "      <td>std</td>\n",
       "      <td>two</td>\n",
       "      <td>convertible</td>\n",
       "      <td>rwd</td>\n",
       "      <td>front</td>\n",
       "      <td>88.6</td>\n",
       "      <td>...</td>\n",
       "      <td>130</td>\n",
       "      <td>mpfi</td>\n",
       "      <td>3.47</td>\n",
       "      <td>2.68</td>\n",
       "      <td>9.0</td>\n",
       "      <td>111</td>\n",
       "      <td>5000</td>\n",
       "      <td>21</td>\n",
       "      <td>27</td>\n",
       "      <td>16500</td>\n",
       "    </tr>\n",
       "    <tr>\n",
       "      <th>2</th>\n",
       "      <td>1</td>\n",
       "      <td>?</td>\n",
       "      <td>alfa-romero</td>\n",
       "      <td>gas</td>\n",
       "      <td>std</td>\n",
       "      <td>two</td>\n",
       "      <td>hatchback</td>\n",
       "      <td>rwd</td>\n",
       "      <td>front</td>\n",
       "      <td>94.5</td>\n",
       "      <td>...</td>\n",
       "      <td>152</td>\n",
       "      <td>mpfi</td>\n",
       "      <td>2.68</td>\n",
       "      <td>3.47</td>\n",
       "      <td>9.0</td>\n",
       "      <td>154</td>\n",
       "      <td>5000</td>\n",
       "      <td>19</td>\n",
       "      <td>26</td>\n",
       "      <td>16500</td>\n",
       "    </tr>\n",
       "    <tr>\n",
       "      <th>3</th>\n",
       "      <td>2</td>\n",
       "      <td>164</td>\n",
       "      <td>audi</td>\n",
       "      <td>gas</td>\n",
       "      <td>std</td>\n",
       "      <td>four</td>\n",
       "      <td>sedan</td>\n",
       "      <td>fwd</td>\n",
       "      <td>front</td>\n",
       "      <td>99.8</td>\n",
       "      <td>...</td>\n",
       "      <td>109</td>\n",
       "      <td>mpfi</td>\n",
       "      <td>3.19</td>\n",
       "      <td>3.40</td>\n",
       "      <td>10.0</td>\n",
       "      <td>102</td>\n",
       "      <td>5500</td>\n",
       "      <td>24</td>\n",
       "      <td>30</td>\n",
       "      <td>13950</td>\n",
       "    </tr>\n",
       "    <tr>\n",
       "      <th>4</th>\n",
       "      <td>2</td>\n",
       "      <td>164</td>\n",
       "      <td>audi</td>\n",
       "      <td>gas</td>\n",
       "      <td>std</td>\n",
       "      <td>four</td>\n",
       "      <td>sedan</td>\n",
       "      <td>4wd</td>\n",
       "      <td>front</td>\n",
       "      <td>99.4</td>\n",
       "      <td>...</td>\n",
       "      <td>136</td>\n",
       "      <td>mpfi</td>\n",
       "      <td>3.19</td>\n",
       "      <td>3.40</td>\n",
       "      <td>8.0</td>\n",
       "      <td>115</td>\n",
       "      <td>5500</td>\n",
       "      <td>18</td>\n",
       "      <td>22</td>\n",
       "      <td>17450</td>\n",
       "    </tr>\n",
       "  </tbody>\n",
       "</table>\n",
       "<p>5 rows × 26 columns</p>\n",
       "</div>"
      ],
      "text/plain": [
       "   symboling normalized_losses         make fuel_type aspiration num_doors  \\\n",
       "0          3                 ?  alfa-romero       gas        std       two   \n",
       "1          3                 ?  alfa-romero       gas        std       two   \n",
       "2          1                 ?  alfa-romero       gas        std       two   \n",
       "3          2               164         audi       gas        std      four   \n",
       "4          2               164         audi       gas        std      four   \n",
       "\n",
       "    body_style drive_wheels engine_location  wheel_base  ...    engine_size  \\\n",
       "0  convertible          rwd           front        88.6  ...            130   \n",
       "1  convertible          rwd           front        88.6  ...            130   \n",
       "2    hatchback          rwd           front        94.5  ...            152   \n",
       "3        sedan          fwd           front        99.8  ...            109   \n",
       "4        sedan          4wd           front        99.4  ...            136   \n",
       "\n",
       "   fuel_system  bore  stroke compression_ratio horsepower  peak_rpm city_mpg  \\\n",
       "0         mpfi  3.47    2.68               9.0        111      5000       21   \n",
       "1         mpfi  3.47    2.68               9.0        111      5000       21   \n",
       "2         mpfi  2.68    3.47               9.0        154      5000       19   \n",
       "3         mpfi  3.19    3.40              10.0        102      5500       24   \n",
       "4         mpfi  3.19    3.40               8.0        115      5500       18   \n",
       "\n",
       "  highway_mpg  price  \n",
       "0          27  13495  \n",
       "1          27  16500  \n",
       "2          26  16500  \n",
       "3          30  13950  \n",
       "4          22  17450  \n",
       "\n",
       "[5 rows x 26 columns]"
      ]
     },
     "execution_count": 3,
     "metadata": {},
     "output_type": "execute_result"
    }
   ],
   "source": [
    "import pandas as pd\n",
    "cars = pd.read_csv('imports-85.data',names=headers)\n",
    "print(cars.shape)\n",
    "cars.head()"
   ]
  },
  {
   "cell_type": "code",
   "execution_count": 4,
   "metadata": {
    "collapsed": false
   },
   "outputs": [
    {
     "name": "stdout",
     "output_type": "stream",
     "text": [
      "<class 'pandas.core.frame.DataFrame'>\n",
      "RangeIndex: 205 entries, 0 to 204\n",
      "Data columns (total 26 columns):\n",
      "symboling            205 non-null int64\n",
      "normalized_losses    205 non-null object\n",
      "make                 205 non-null object\n",
      "fuel_type            205 non-null object\n",
      "aspiration           205 non-null object\n",
      "num_doors            205 non-null object\n",
      "body_style           205 non-null object\n",
      "drive_wheels         205 non-null object\n",
      "engine_location      205 non-null object\n",
      "wheel_base           205 non-null float64\n",
      "length               205 non-null float64\n",
      "width                205 non-null float64\n",
      "height               205 non-null float64\n",
      "curb_weight          205 non-null int64\n",
      "engine_type          205 non-null object\n",
      "num_cylinders        205 non-null object\n",
      "engine_size          205 non-null int64\n",
      "fuel_system          205 non-null object\n",
      "bore                 205 non-null object\n",
      "stroke               205 non-null object\n",
      "compression_ratio    205 non-null float64\n",
      "horsepower           205 non-null object\n",
      "peak_rpm             205 non-null object\n",
      "city_mpg             205 non-null int64\n",
      "highway_mpg          205 non-null int64\n",
      "price                205 non-null object\n",
      "dtypes: float64(5), int64(5), object(16)\n",
      "memory usage: 41.7+ KB\n"
     ]
    }
   ],
   "source": [
    "cars.info()"
   ]
  },
  {
   "cell_type": "markdown",
   "metadata": {},
   "source": [
    "## Data Cleaning\n",
    "There usually can't have any missing values if we want to use them for predictive modeling. Based on the data set preview, I can tell that the `normalized-losses` column contains missing values represented using `\"?\"`. I will replace these values and look for the presence of missing values in other numeric columns. \n",
    "\n",
    "I will also rescale the values in the numeric columns so they all range from `0` to `1`."
   ]
  },
  {
   "cell_type": "code",
   "execution_count": 5,
   "metadata": {
    "collapsed": false
   },
   "outputs": [],
   "source": [
    "import numpy as np\n",
    "cars.replace('?',np.nan, inplace=True)"
   ]
  },
  {
   "cell_type": "code",
   "execution_count": 6,
   "metadata": {
    "collapsed": false
   },
   "outputs": [],
   "source": [
    "cars.drop('normalized_losses',axis=1,inplace=True)"
   ]
  },
  {
   "cell_type": "code",
   "execution_count": 7,
   "metadata": {
    "collapsed": true
   },
   "outputs": [],
   "source": [
    "num_columns = ['symboling','wheel_base',\n",
    "  'length','width','height','curb_weight','engine_size',\n",
    "  'bore','stroke','compression_ratio','horsepower','peak_rpm',\n",
    "  'city_mpg','highway_mpg','price']"
   ]
  },
  {
   "cell_type": "code",
   "execution_count": 8,
   "metadata": {
    "collapsed": false,
    "scrolled": true
   },
   "outputs": [],
   "source": [
    "cars[num_columns] = cars[num_columns].astype(float)"
   ]
  },
  {
   "cell_type": "code",
   "execution_count": 9,
   "metadata": {
    "collapsed": false
   },
   "outputs": [
    {
     "data": {
      "text/plain": [
       "symboling            0\n",
       "make                 0\n",
       "fuel_type            0\n",
       "aspiration           0\n",
       "num_doors            2\n",
       "body_style           0\n",
       "drive_wheels         0\n",
       "engine_location      0\n",
       "wheel_base           0\n",
       "length               0\n",
       "width                0\n",
       "height               0\n",
       "curb_weight          0\n",
       "engine_type          0\n",
       "num_cylinders        0\n",
       "engine_size          0\n",
       "fuel_system          0\n",
       "bore                 4\n",
       "stroke               4\n",
       "compression_ratio    0\n",
       "horsepower           2\n",
       "peak_rpm             2\n",
       "city_mpg             0\n",
       "highway_mpg          0\n",
       "price                4\n",
       "dtype: int64"
      ]
     },
     "execution_count": 9,
     "metadata": {},
     "output_type": "execute_result"
    }
   ],
   "source": [
    "cars.isnull().sum()"
   ]
  },
  {
   "cell_type": "code",
   "execution_count": 10,
   "metadata": {
    "collapsed": false
   },
   "outputs": [
    {
     "data": {
      "text/plain": [
       "symboling            0\n",
       "make                 0\n",
       "fuel_type            0\n",
       "aspiration           0\n",
       "num_doors            0\n",
       "body_style           0\n",
       "drive_wheels         0\n",
       "engine_location      0\n",
       "wheel_base           0\n",
       "length               0\n",
       "width                0\n",
       "height               0\n",
       "curb_weight          0\n",
       "engine_type          0\n",
       "num_cylinders        0\n",
       "engine_size          0\n",
       "fuel_system          0\n",
       "bore                 0\n",
       "stroke               0\n",
       "compression_ratio    0\n",
       "horsepower           0\n",
       "peak_rpm             0\n",
       "city_mpg             0\n",
       "highway_mpg          0\n",
       "price                0\n",
       "dtype: int64"
      ]
     },
     "execution_count": 10,
     "metadata": {},
     "output_type": "execute_result"
    }
   ],
   "source": [
    "cars['num_doors'].fillna('two',inplace=True)\n",
    "cars['bore'].fillna(cars['bore'].mean(),inplace=True)\n",
    "cars['stroke'].fillna(cars['stroke'].mean(),inplace=True)\n",
    "cars.dropna(subset=['price','horsepower','peak_rpm'],inplace=True)\n",
    "cars.isnull().sum()"
   ]
  },
  {
   "cell_type": "code",
   "execution_count": 11,
   "metadata": {
    "collapsed": false
   },
   "outputs": [],
   "source": [
    "num_columns.remove('price')\n",
    "cars[num_columns]=(cars[num_columns]-cars[num_columns].mean())/cars[num_columns].std()"
   ]
  },
  {
   "cell_type": "markdown",
   "metadata": {},
   "source": [
    "## Univariate Model"
   ]
  },
  {
   "cell_type": "code",
   "execution_count": 32,
   "metadata": {
    "collapsed": false
   },
   "outputs": [],
   "source": [
    "from sklearn.neighbors import KNeighborsRegressor\n",
    "from sklearn.metrics import mean_squared_error\n",
    "\n",
    "def knn_train_test(train_name,test_name,df):\n",
    "    \n",
    "    np.random.seed(1)\n",
    "    shuffled_index = np.random.permutation(df.index)\n",
    "    df = df.reindex(shuffled_index)\n",
    "    \n",
    "    num = int(len(df)/2)\n",
    "    train = df.iloc[:num,]\n",
    "    test = df.iloc[num:,]\n",
    "    \n",
    "    knn = KNeighborsRegressor(n_neighbors=5)\n",
    "    knn.fit(train[train_name],train[test_name])\n",
    "    predicted = knn.predict(test[train_name])\n",
    "    mse = mean_squared_error(test[test_name],predicted)\n",
    "    rmse = np.sqrt(mse)\n",
    "    \n",
    "    return rmse"
   ]
  },
  {
   "cell_type": "code",
   "execution_count": 52,
   "metadata": {
    "collapsed": false
   },
   "outputs": [],
   "source": [
    "num_column_dict = {}\n",
    "for column in num_columns:\n",
    "    num_column_dict[column] = knn_train_test([column],'price',cars)\n",
    "    \n",
    "num_column_dict_v = pd.Series(num_column_dict)\n",
    "num_column_dict_v = num_column_dict_v.sort_values()"
   ]
  },
  {
   "cell_type": "code",
   "execution_count": 41,
   "metadata": {
    "collapsed": false
   },
   "outputs": [],
   "source": [
    "def mod_knn_train_test(train_name,test_name,df,k):\n",
    "    \n",
    "    np.random.seed(1)\n",
    "    shuffled_index = np.random.permutation(df.index)\n",
    "    df = df.reindex(shuffled_index)\n",
    "    \n",
    "    num = int(len(df)/2)\n",
    "    train = df.iloc[:num,]\n",
    "    test = df.iloc[num:,]\n",
    "    \n",
    "    knn = KNeighborsRegressor(n_neighbors=k)\n",
    "    knn.fit(train[train_name],train[test_name])\n",
    "    predicted = knn.predict(test[train_name])\n",
    "    mse = mean_squared_error(test[test_name],predicted)\n",
    "    rmse = np.sqrt(mse)\n",
    "    \n",
    "    return rmse"
   ]
  },
  {
   "cell_type": "code",
   "execution_count": 42,
   "metadata": {
    "collapsed": false
   },
   "outputs": [
    {
     "data": {
      "text/plain": [
       "{'bore': [10855.997766212004,\n",
       "  8045.945694088559,\n",
       "  7075.657154243697,\n",
       "  6874.883086382529,\n",
       "  6755.933553286308],\n",
       " 'city_mpg': [5874.546739962157,\n",
       "  5028.825813359527,\n",
       "  4789.205292655557,\n",
       "  4831.372245067458,\n",
       "  4743.46733557887],\n",
       " 'compression_ratio': [9001.77967126501,\n",
       "  6318.135425371423,\n",
       "  6382.301334847799,\n",
       "  6490.17471803435,\n",
       "  6701.87911623613],\n",
       " 'curb_weight': [5287.694056959045,\n",
       "  5083.531213634868,\n",
       "  4499.059648993331,\n",
       "  4408.023710374581,\n",
       "  4688.299013830754],\n",
       " 'engine_size': [3681.6973490497558,\n",
       "  2967.804484238587,\n",
       "  3095.5078204391602,\n",
       "  3448.58546828128,\n",
       "  3634.524859533623],\n",
       " 'height': [9617.192068894123,\n",
       "  8410.412453751731,\n",
       "  8106.194198710021,\n",
       "  7582.445446112046,\n",
       "  7863.639177047108],\n",
       " 'highway_mpg': [5411.357818514684,\n",
       "  4400.075490514023,\n",
       "  4537.452840526278,\n",
       "  4493.438789059044,\n",
       "  4790.543868000226],\n",
       " 'horsepower': [4433.762825185849,\n",
       "  3931.370995664942,\n",
       "  4018.521481938351,\n",
       "  4512.396146987422,\n",
       "  4673.486348475056],\n",
       " 'length': [5218.287991286031,\n",
       "  5261.475911229133,\n",
       "  5716.481462753116,\n",
       "  5508.645638170854,\n",
       "  5510.848741648907],\n",
       " 'peak_rpm': [7283.953434090583,\n",
       "  8416.596864132993,\n",
       "  7503.346992216208,\n",
       "  7344.284310667607,\n",
       "  7234.472964951717],\n",
       " 'stroke': [9178.390552270044,\n",
       "  7070.843657112872,\n",
       "  7485.5912977132275,\n",
       "  7389.042465539836,\n",
       "  7598.079806791343],\n",
       " 'symboling': [8095.935713677573,\n",
       "  8382.4696180647,\n",
       "  8606.502489490142,\n",
       "  8097.998113630761,\n",
       "  8077.421831474462],\n",
       " 'wheel_base': [5010.324504460764,\n",
       "  5256.323928268585,\n",
       "  5596.489233046018,\n",
       "  5472.4496696206,\n",
       "  5820.559938668242],\n",
       " 'width': [4747.567293888524,\n",
       "  4963.595550046804,\n",
       "  4769.55159468896,\n",
       "  4605.448685026049,\n",
       "  4747.616404673605]}"
      ]
     },
     "execution_count": 42,
     "metadata": {},
     "output_type": "execute_result"
    }
   ],
   "source": [
    "cars_uni_dict={}\n",
    "for column in num_columns:\n",
    "    cars_uni_dict[column]=[]\n",
    "    for i in (1,3,5,7,9):\n",
    "       cars_uni_dict[column].append(mod_knn_train_test([column],'price',cars,i))\n",
    "    \n",
    "cars_uni_dict"
   ]
  },
  {
   "cell_type": "code",
   "execution_count": 43,
   "metadata": {
    "collapsed": false
   },
   "outputs": [
    {
     "data": {
      "image/png": "[encoded data removed]",
      "text/plain": [
       "<matplotlib.figure.Figure at 0x7f90e17088d0>"
      ]
     },
     "metadata": {},
     "output_type": "display_data"
    }
   ],
   "source": [
    "import matplotlib.pyplot as plt\n",
    "%matplotlib inline\n",
    "\n",
    "plt.figure(figsize=(8, 6))\n",
    "\n",
    "for key,value in cars_uni_dict.items():\n",
    "    x = (1,3,5,7,9)\n",
    "    y = list(value)\n",
    "    \n",
    "    plt.plot(x,y,label = key)\n",
    "    plt.xlabel('k value')\n",
    "    plt.ylabel('RMSE')\n",
    "    \n",
    "plt.legend(loc='center left', bbox_to_anchor=(1, 0.5))\n",
    "plt.show()"
   ]
  },
  {
   "cell_type": "markdown",
   "metadata": {
    "collapsed": true
   },
   "source": [
    "## Multivariate Model"
   ]
  },
  {
   "cell_type": "code",
   "execution_count": 44,
   "metadata": {
    "collapsed": true
   },
   "outputs": [],
   "source": [
    "def multi_knn_train_test(train_name,test_name,df):\n",
    "    \n",
    "    np.random.seed(1)\n",
    "    shuffled_index = np.random.permutation(df.index)\n",
    "    df = df.reindex(shuffled_index)\n",
    "    \n",
    "    num = int(len(df)/2)\n",
    "    train = df.iloc[:num,]\n",
    "    test = df.iloc[num:,]\n",
    "    \n",
    "    knn = KNeighborsRegressor()\n",
    "    knn.fit(train[train_name],train[test_name])\n",
    "    predicted = knn.predict(test[train_name])\n",
    "    mse = mean_squared_error(test[test_name],predicted)\n",
    "    rmse = np.sqrt(mse)\n",
    "    \n",
    "    return rmse"
   ]
  },
  {
   "cell_type": "code",
   "execution_count": 66,
   "metadata": {
    "collapsed": false
   },
   "outputs": [
    {
     "data": {
      "text/plain": [
       "two_best_features      2953.564312\n",
       "four_best_features     3456.214476\n",
       "three_best_features    3461.155242\n",
       "five_best_features     3641.648423\n",
       "dtype: float64"
      ]
     },
     "execution_count": 66,
     "metadata": {},
     "output_type": "execute_result"
    }
   ],
   "source": [
    "multi_model_dict = {}\n",
    "\n",
    "two_features = list(num_column_dict_v.head(2).index)\n",
    "multi_model_dict['two_best_features'] = multi_knn_train_test(two_features,'price',cars)\n",
    "\n",
    "three_features = list(num_column_dict_v.head(3).index)\n",
    "multi_model_dict['three_best_features'] = multi_knn_train_test(three_features,'price',cars)\n",
    "\n",
    "four_features = list(num_column_dict_v.head(4).index)\n",
    "multi_model_dict['four_best_features'] = multi_knn_train_test(four_features,'price',cars)\n",
    "\n",
    "five_features = list(num_column_dict_v.head(5).index)\n",
    "multi_model_dict['five_best_features'] = multi_knn_train_test(five_features,'price',cars)\n",
    "\n",
    "multi_model_dict_v = pd.Series(multi_model_dict)\n",
    "multi_model_dict_v = multi_model_dict_v.sort_values()\n",
    "multi_model_dict_v"
   ]
  },
  {
   "cell_type": "markdown",
   "metadata": {},
   "source": [
    "## Hyperparameter Tuning"
   ]
  },
  {
   "cell_type": "code",
   "execution_count": 77,
   "metadata": {
    "collapsed": true
   },
   "outputs": [],
   "source": [
    "def hyper_knn_train_test(train_name,test_name,df,k):\n",
    "    \n",
    "    np.random.seed(1)\n",
    "    shuffled_index = np.random.permutation(df.index)\n",
    "    df = df.reindex(shuffled_index)\n",
    "    \n",
    "    num = int(len(df)/2)\n",
    "    train = df.iloc[:num,]\n",
    "    test = df.iloc[num:,]\n",
    "    \n",
    "    knn = KNeighborsRegressor(n_neighbors=k)\n",
    "    knn.fit(train[train_name],train[test_name])\n",
    "    predicted = knn.predict(test[train_name])\n",
    "    mse = mean_squared_error(test[test_name],predicted)\n",
    "    rmse = np.sqrt(mse)\n",
    "    \n",
    "    return rmse"
   ]
  },
  {
   "cell_type": "code",
   "execution_count": 79,
   "metadata": {
    "collapsed": false
   },
   "outputs": [],
   "source": [
    "hyper_tune = {}\n",
    "hyper_tune['two_best_features'] = []\n",
    "hyper_tune['three_best_features'] = []\n",
    "hyper_tune['four_best_features'] = []\n",
    "\n",
    "for i in [2,3,4]:\n",
    "    for k in range(1,26):\n",
    "        if i == 2:\n",
    "            two_features = list(num_column_dict_v.head(2).index)\n",
    "            hyper_tune['two_best_features'].append(hyper_knn_train_test(two_features,'price',cars,k))\n",
    "        if i == 3:\n",
    "            three_features = list(num_column_dict_v.head(3).index)\n",
    "            hyper_tune['three_best_features'].append(hyper_knn_train_test(three_features,'price',cars,k))\n",
    "        if i == 4:\n",
    "            four_features = list(num_column_dict_v.head(4).index)\n",
    "            hyper_tune['four_best_features'].append(hyper_knn_train_test(four_features,'price',cars,k) )"
   ]
  },
  {
   "cell_type": "code",
   "execution_count": 80,
   "metadata": {
    "collapsed": false
   },
   "outputs": [
    {
     "data": {
      "text/plain": [
       "{'four_best_features': [2909.507350050864,\n",
       "  2667.8944488116467,\n",
       "  2934.1234182176677,\n",
       "  3098.9768578718044,\n",
       "  3456.214475925937,\n",
       "  3836.9851431675997,\n",
       "  3905.719931153825,\n",
       "  4124.964887539953,\n",
       "  4227.704601644424,\n",
       "  4288.053548884389,\n",
       "  4265.059419068136,\n",
       "  4275.258936172106,\n",
       "  4349.211648239648,\n",
       "  4376.516020955901,\n",
       "  4460.168485945595,\n",
       "  4479.699635207665,\n",
       "  4564.569314721021,\n",
       "  4582.381412163681,\n",
       "  4630.75287312024,\n",
       "  4692.821267246921,\n",
       "  4742.314464435254,\n",
       "  4752.962629140719,\n",
       "  4766.828338718823,\n",
       "  4810.0946825797455,\n",
       "  4826.57842862954],\n",
       " 'three_best_features': [2821.7129177150537,\n",
       "  2941.1350853029517,\n",
       "  3143.2589358463256,\n",
       "  3244.998387904068,\n",
       "  3461.1552423432267,\n",
       "  3586.1990199699367,\n",
       "  3835.3883841862767,\n",
       "  3925.4259563254727,\n",
       "  4062.7063904875827,\n",
       "  4178.69178447035,\n",
       "  4302.917072951118,\n",
       "  4279.776805463497,\n",
       "  4336.709081364639,\n",
       "  4374.930162148131,\n",
       "  4437.645609780033,\n",
       "  4450.55768922471,\n",
       "  4521.8368736846905,\n",
       "  4532.0739667703765,\n",
       "  4570.603922754417,\n",
       "  4673.02054560003,\n",
       "  4714.578220112599,\n",
       "  4723.554547348517,\n",
       "  4723.4894111253425,\n",
       "  4774.858398847566,\n",
       "  4820.978777333915],\n",
       " 'two_best_features': [3281.250097142856,\n",
       "  2820.5402868954025,\n",
       "  2682.007035370671,\n",
       "  2765.2422875310585,\n",
       "  2953.564312081252,\n",
       "  3103.3401023019624,\n",
       "  3230.1419937513456,\n",
       "  3492.9374829119474,\n",
       "  3663.824096504014,\n",
       "  3929.1404983023954,\n",
       "  4207.5278842542275,\n",
       "  4348.308924926703,\n",
       "  4435.698481050408,\n",
       "  4474.376456900025,\n",
       "  4491.43837882204,\n",
       "  4573.394114976145,\n",
       "  4654.384632925288,\n",
       "  4712.941079993219,\n",
       "  4773.519422673659,\n",
       "  4835.335079043126,\n",
       "  4887.702465733509,\n",
       "  4855.163030846136,\n",
       "  4873.861184508655,\n",
       "  4916.389090132403,\n",
       "  4968.7283601275685]}"
      ]
     },
     "execution_count": 80,
     "metadata": {},
     "output_type": "execute_result"
    }
   ],
   "source": [
    "hyper_tune"
   ]
  },
  {
   "cell_type": "code",
   "execution_count": 82,
   "metadata": {
    "collapsed": false
   },
   "outputs": [
    {
     "data": {
      "image/png": "[encoded data removed]",
      "text/plain": [
       "<matplotlib.figure.Figure at 0x7f90e15c6518>"
      ]
     },
     "metadata": {},
     "output_type": "display_data"
    }
   ],
   "source": [
    "plt.figure(figsize=(8, 6))\n",
    "\n",
    "for key,value in hyper_tune.items():\n",
    "    x = range(1,26)\n",
    "    y = list(value)\n",
    "    \n",
    "    plt.plot(x,y,label = key)\n",
    "    plt.xlabel('k value')\n",
    "    plt.ylabel('RMSE')\n",
    "    \n",
    "plt.legend(loc='center left', bbox_to_anchor=(1, 0.5))\n",
    "plt.show()"
   ]
  },
  {
   "cell_type": "markdown",
   "metadata": {
    "collapsed": true
   },
   "source": [
    "# Conclusion\n",
    "\n",
    "- The k value that is most optimal for the `two_best_features` model is `3`.\n",
    "- The k value that is most optimal for the `three_best_features` model is `1`.\n",
    "- The k value that is most optimal for the `two_best_features` model is `2`.\n",
    "\n",
    "There is a minor difference between the `k` values for each model. The number of features included in each model probably accounts for the differences in `k` values."
   ]
  },
  {
   "cell_type": "code",
   "execution_count": null,
   "metadata": {
    "collapsed": true
   },
   "outputs": [],
   "source": []
  }
 ],
 "metadata": {
  "kernelspec": {
   "display_name": "Python 3",
   "language": "python",
   "name": "python3"
  },
  "language_info": {
   "codemirror_mode": {
    "name": "ipython",
    "version": 3
   },
   "file_extension": ".py",
   "mimetype": "text/x-python",
   "name": "python",
   "nbconvert_exporter": "python",
   "pygments_lexer": "ipython3",
   "version": "3.4.3"
  }
 },
 "nbformat": 4,
 "nbformat_minor": 2
}
